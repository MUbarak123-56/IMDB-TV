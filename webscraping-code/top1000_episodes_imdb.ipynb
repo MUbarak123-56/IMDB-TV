{
 "cells": [
  {
   "cell_type": "markdown",
   "metadata": {},
   "source": [
    "# Top 1000 episodes on IMDb"
   ]
  },
  {
   "cell_type": "markdown",
   "metadata": {},
   "source": [
    "Run the code below to go into previous directory"
   ]
  },
  {
   "cell_type": "code",
   "execution_count": null,
   "metadata": {},
   "outputs": [],
   "source": [
    "%cd .."
   ]
  },
  {
   "cell_type": "markdown",
   "metadata": {},
   "source": [
    "Uncomment the codes below and run to create the directories if this is your first time running it. If it returns a statement stating that the directories already exists, proceed."
   ]
  },
  {
   "cell_type": "code",
   "execution_count": null,
   "metadata": {},
   "outputs": [],
   "source": [
    "#%mkdir anime-series-data/\n",
    "#%mkdir anime-series-data-named/\n",
    "#%mkdir cumulative-data/"
   ]
  },
  {
   "cell_type": "code",
   "execution_count": null,
   "metadata": {},
   "outputs": [],
   "source": [
    "import pandas as pd\n",
    "import numpy as np\n",
    "import os\n",
    "%matplotlib inline\n",
    "import matplotlib.pyplot as plt\n",
    "from bs4 import BeautifulSoup\n",
    "import requests\n",
    "import re\n",
    "from requests import get"
   ]
  },
  {
   "cell_type": "markdown",
   "metadata": {},
   "source": [
    "### Top 1000 episodes on IMDb list"
   ]
  },
  {
   "cell_type": "code",
   "execution_count": null,
   "metadata": {},
   "outputs": [],
   "source": [
    "# url with the link to the top 1000 episodes list\n",
    "url = 'https://www.imdb.com/search/title/?title_type=tv_episode&num_votes=1000,&sort=user_rating,desc'\n",
    "response = get(url)\n",
    "episode_soup = BeautifulSoup(response.text, 'html.parser')\n",
    "episode_box = episode_soup.find_all('div', class_ = \"lister-item-content\")\n",
    "episode_list = []\n",
    "for episode in episode_box:\n",
    "    tv_show = episode.a.text.strip()\n",
    "    episode_name = episode.find_all(\"a\")[1].string\n",
    "    ratings = episode.find(\"strong\").text\n",
    "    year = episode.find_all(\"span\", class_ = \"lister-item-year text-muted unbold\")[1].text\n",
    "    year = year.replace(\"(\", \"\")\n",
    "    year = year.replace(\")\", \"\")\n",
    "    votes = episode.find(\"p\", class_ = \"sort-num_votes-visible\")\n",
    "    votes = votes.find_all(\"span\")[1].text\n",
    "    votes = votes.replace(\",\", \"\")\n",
    "    desc = episode.find_all(\"p\", class_ = \"text-muted\")[1].text.strip(\"\\n\")\n",
    "    genre = episode.find_all(\"p\", class_ = \"text-muted\")[0]\n",
    "    genre = genre.find(\"span\", class_ = \"genre\").text.strip(\"\\n\").strip(\" \")\n",
    "    #genre = genre.span[\"genre\"]\n",
    "    encoded_title = episode.a[\"href\"]\n",
    "    encoded_title = encoded_title.replace(\"/title/\", \"\")\n",
    "    encoded_title = encoded_title.replace(\"/\", \"\")\n",
    "    episode_list.append([tv_show, episode_name, ratings, year, votes, desc, genre, encoded_title])\n",
    "n = 51\n",
    "while n < 1000:\n",
    "    # url with the link to the top 50 anime list\n",
    "    url = 'https://www.imdb.com/search/title/?title_type=tv_episode&num_votes=1000,&sort=user_rating,desc&start=' + str(n) + '&ref_=adv_nxt'\n",
    "    response = get(url)\n",
    "    episode_soup = BeautifulSoup(response.text, 'html.parser')\n",
    "    episode_box = episode_soup.find_all('div', class_ = \"lister-item-content\")\n",
    "    for episode in episode_box:\n",
    "        tv_show = episode.a.text.strip()\n",
    "        episode_name = episode.find_all(\"a\")[1].string\n",
    "        ratings = episode.find(\"strong\").text\n",
    "        year = episode.find_all(\"span\", class_ = \"lister-item-year text-muted unbold\")[1].text\n",
    "        year = year.replace(\"(\", \"\")\n",
    "        year = year.replace(\")\", \"\")\n",
    "        votes = episode.find(\"p\", class_ = \"sort-num_votes-visible\")\n",
    "        votes = votes.find_all(\"span\")[1].text\n",
    "        votes = votes.replace(\",\", \"\")\n",
    "        desc = episode.find_all(\"p\", class_ = \"text-muted\")[1].text.strip(\"\\n\")\n",
    "        genre = episode.find_all(\"p\", class_ = \"text-muted\")[0]\n",
    "        genre = genre.find(\"span\", class_ = \"genre\").text.strip(\"\\n\").strip(\" \")\n",
    "        encoded_title = episode.a[\"href\"]\n",
    "        encoded_title = encoded_title.replace(\"/title/\", \"\")\n",
    "        encoded_title = encoded_title.replace(\"/\", \"\")\n",
    "        episode_list.append([tv_show, episode_name, ratings, year, votes, desc, genre, encoded_title])\n",
    "    n += 50"
   ]
  },
  {
   "cell_type": "code",
   "execution_count": null,
   "metadata": {},
   "outputs": [],
   "source": [
    "df = pd.DataFrame(episode_list, columns = [\"tv_show\", \"episode\", \"rating\", \"year\", \"total_votes\", \"desc\", \"genre\", \"encoded_title\"])"
   ]
  },
  {
   "cell_type": "code",
   "execution_count": null,
   "metadata": {},
   "outputs": [],
   "source": [
    "df[\"year\"] = df[\"year\"].str.replace(\"I 2019\", \"2019\")\n",
    "df[\"year\"] = df[\"year\"].astype(int)"
   ]
  },
  {
   "cell_type": "code",
   "execution_count": null,
   "metadata": {},
   "outputs": [],
   "source": [
    "df.info()"
   ]
  },
  {
   "cell_type": "code",
   "execution_count": null,
   "metadata": {},
   "outputs": [],
   "source": [
    "df.describe()"
   ]
  },
  {
   "cell_type": "code",
   "execution_count": null,
   "metadata": {},
   "outputs": [],
   "source": [
    "df.head()"
   ]
  },
  {
   "cell_type": "code",
   "execution_count": null,
   "metadata": {},
   "outputs": [],
   "source": [
    "df.tail()"
   ]
  },
  {
   "cell_type": "code",
   "execution_count": null,
   "metadata": {},
   "outputs": [],
   "source": [
    "genres = df[\"genre\"].str.split(\", \", expand = True)\n",
    "df[\"genre1\"] = genres[0]\n",
    "df[\"genre2\"] = genres[1]\n",
    "df[\"genre3\"] = genres[2]\n",
    "df.head()"
   ]
  },
  {
   "cell_type": "code",
   "execution_count": null,
   "metadata": {},
   "outputs": [],
   "source": [
    "df.to_csv(\"cumulative-data/top1000_episodes_imdb.csv\", index = False)"
   ]
  }
 ],
 "metadata": {
  "kernelspec": {
   "display_name": "Python 3 (ipykernel)",
   "language": "python",
   "name": "python3"
  },
  "language_info": {
   "codemirror_mode": {
    "name": "ipython",
    "version": 3
   },
   "file_extension": ".py",
   "mimetype": "text/x-python",
   "name": "python",
   "nbconvert_exporter": "python",
   "pygments_lexer": "ipython3",
   "version": "3.9.7"
  }
 },
 "nbformat": 4,
 "nbformat_minor": 2
}
