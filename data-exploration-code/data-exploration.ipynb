{
 "cells": [
  {
   "cell_type": "markdown",
   "metadata": {},
   "source": [
    "# Data Exploration"
   ]
  },
  {
   "cell_type": "code",
   "execution_count": 1,
   "metadata": {},
   "outputs": [
    {
     "name": "stdout",
     "output_type": "stream",
     "text": [
      "C:\\Users\\ganiy\\OneDrive\\Documents\\IMDB-TV\n"
     ]
    }
   ],
   "source": [
    "%cd .."
   ]
  },
  {
   "cell_type": "code",
   "execution_count": 2,
   "metadata": {},
   "outputs": [],
   "source": [
    "import pandas as pd\n",
    "import numpy as np\n",
    "import seaborn as sns; sns.set_theme(style = \"dark\")\n",
    "%matplotlib inline\n",
    "import matplotlib.pyplot as plt"
   ]
  },
  {
   "cell_type": "markdown",
   "metadata": {},
   "source": [
    "### Loading data sets"
   ]
  },
  {
   "cell_type": "code",
   "execution_count": 3,
   "metadata": {},
   "outputs": [],
   "source": [
    "# Loading IMDb dataset\n",
    "imdb_data = pd.read_csv(\"cumulative-data/tv_dataset.csv\")\n",
    "# Loading top 1000 episodes on IMDb\n",
    "top_episodes = pd.read_csv(\"cumulative-data/top1000_episodes_imdb.csv\")\n",
    "# Loading top 250 TV shows on IMDb data set\n",
    "top_250 = pd.read_csv(\"cumulative-data/IMDb_top_250.csv\")"
   ]
  },
  {
   "cell_type": "code",
   "execution_count": 4,
   "metadata": {},
   "outputs": [
    {
     "data": {
      "text/html": [
       "<div>\n",
       "<style scoped>\n",
       "    .dataframe tbody tr th:only-of-type {\n",
       "        vertical-align: middle;\n",
       "    }\n",
       "\n",
       "    .dataframe tbody tr th {\n",
       "        vertical-align: top;\n",
       "    }\n",
       "\n",
       "    .dataframe thead th {\n",
       "        text-align: right;\n",
       "    }\n",
       "</style>\n",
       "<table border=\"1\" class=\"dataframe\">\n",
       "  <thead>\n",
       "    <tr style=\"text-align: right;\">\n",
       "      <th></th>\n",
       "      <th>tv</th>\n",
       "      <th>season</th>\n",
       "      <th>episode_number</th>\n",
       "      <th>title</th>\n",
       "      <th>airdate</th>\n",
       "      <th>rating</th>\n",
       "      <th>total_votes</th>\n",
       "      <th>desc</th>\n",
       "      <th>encoded_title</th>\n",
       "    </tr>\n",
       "  </thead>\n",
       "  <tbody>\n",
       "    <tr>\n",
       "      <th>0</th>\n",
       "      <td>Luther</td>\n",
       "      <td>1</td>\n",
       "      <td>0</td>\n",
       "      <td>Inside Look</td>\n",
       "      <td>May 4, 2010</td>\n",
       "      <td>8.0</td>\n",
       "      <td>781</td>\n",
       "      <td>Series creator and writer Neil Cross, and Luth...</td>\n",
       "      <td>tt1474684</td>\n",
       "    </tr>\n",
       "    <tr>\n",
       "      <th>1</th>\n",
       "      <td>Luther</td>\n",
       "      <td>1</td>\n",
       "      <td>1</td>\n",
       "      <td>Episode #1.1</td>\n",
       "      <td>Oct 17, 2010</td>\n",
       "      <td>8.2</td>\n",
       "      <td>3323</td>\n",
       "      <td>Luther returns to work after a traumatic arres...</td>\n",
       "      <td>tt1474684</td>\n",
       "    </tr>\n",
       "    <tr>\n",
       "      <th>2</th>\n",
       "      <td>Luther</td>\n",
       "      <td>1</td>\n",
       "      <td>2</td>\n",
       "      <td>Episode #1.2</td>\n",
       "      <td>Oct 24, 2010</td>\n",
       "      <td>8.2</td>\n",
       "      <td>2879</td>\n",
       "      <td>A gunman is murdering uniformed police officer...</td>\n",
       "      <td>tt1474684</td>\n",
       "    </tr>\n",
       "    <tr>\n",
       "      <th>3</th>\n",
       "      <td>Luther</td>\n",
       "      <td>1</td>\n",
       "      <td>3</td>\n",
       "      <td>Episode #1.3</td>\n",
       "      <td>Oct 31, 2010</td>\n",
       "      <td>8.0</td>\n",
       "      <td>2676</td>\n",
       "      <td>John Luther is on the trail of a satanic occul...</td>\n",
       "      <td>tt1474684</td>\n",
       "    </tr>\n",
       "    <tr>\n",
       "      <th>4</th>\n",
       "      <td>Luther</td>\n",
       "      <td>1</td>\n",
       "      <td>4</td>\n",
       "      <td>Episode #1.4</td>\n",
       "      <td>Nov 7, 2010</td>\n",
       "      <td>8.5</td>\n",
       "      <td>2759</td>\n",
       "      <td>When a serial killer goes on the rampage, Luth...</td>\n",
       "      <td>tt1474684</td>\n",
       "    </tr>\n",
       "  </tbody>\n",
       "</table>\n",
       "</div>"
      ],
      "text/plain": [
       "       tv  season  episode_number         title       airdate  rating  \\\n",
       "0  Luther       1               0   Inside Look   May 4, 2010     8.0   \n",
       "1  Luther       1               1  Episode #1.1  Oct 17, 2010     8.2   \n",
       "2  Luther       1               2  Episode #1.2  Oct 24, 2010     8.2   \n",
       "3  Luther       1               3  Episode #1.3  Oct 31, 2010     8.0   \n",
       "4  Luther       1               4  Episode #1.4   Nov 7, 2010     8.5   \n",
       "\n",
       "   total_votes                                               desc  \\\n",
       "0          781  Series creator and writer Neil Cross, and Luth...   \n",
       "1         3323  Luther returns to work after a traumatic arres...   \n",
       "2         2879  A gunman is murdering uniformed police officer...   \n",
       "3         2676  John Luther is on the trail of a satanic occul...   \n",
       "4         2759  When a serial killer goes on the rampage, Luth...   \n",
       "\n",
       "  encoded_title  \n",
       "0     tt1474684  \n",
       "1     tt1474684  \n",
       "2     tt1474684  \n",
       "3     tt1474684  \n",
       "4     tt1474684  "
      ]
     },
     "execution_count": 4,
     "metadata": {},
     "output_type": "execute_result"
    }
   ],
   "source": [
    "imdb_data.head()"
   ]
  },
  {
   "cell_type": "code",
   "execution_count": 5,
   "metadata": {},
   "outputs": [
    {
     "data": {
      "text/plain": [
       "15541"
      ]
     },
     "execution_count": 5,
     "metadata": {},
     "output_type": "execute_result"
    }
   ],
   "source": [
    "len(imdb_data)"
   ]
  },
  {
   "cell_type": "code",
   "execution_count": 6,
   "metadata": {},
   "outputs": [],
   "source": [
    "imdb_data = imdb_data[imdb_data[\"rating\"] > 0]"
   ]
  },
  {
   "cell_type": "code",
   "execution_count": 7,
   "metadata": {},
   "outputs": [
    {
     "data": {
      "text/plain": [
       "15376"
      ]
     },
     "execution_count": 7,
     "metadata": {},
     "output_type": "execute_result"
    }
   ],
   "source": [
    "len(imdb_data)"
   ]
  },
  {
   "cell_type": "code",
   "execution_count": 8,
   "metadata": {},
   "outputs": [
    {
     "data": {
      "text/html": [
       "<div>\n",
       "<style scoped>\n",
       "    .dataframe tbody tr th:only-of-type {\n",
       "        vertical-align: middle;\n",
       "    }\n",
       "\n",
       "    .dataframe tbody tr th {\n",
       "        vertical-align: top;\n",
       "    }\n",
       "\n",
       "    .dataframe thead th {\n",
       "        text-align: right;\n",
       "    }\n",
       "</style>\n",
       "<table border=\"1\" class=\"dataframe\">\n",
       "  <thead>\n",
       "    <tr style=\"text-align: right;\">\n",
       "      <th></th>\n",
       "      <th>tv_show</th>\n",
       "      <th>episode</th>\n",
       "      <th>rating</th>\n",
       "      <th>year</th>\n",
       "      <th>total_votes</th>\n",
       "      <th>desc</th>\n",
       "      <th>genre</th>\n",
       "      <th>encoded_title</th>\n",
       "      <th>genre1</th>\n",
       "      <th>genre2</th>\n",
       "      <th>genre3</th>\n",
       "    </tr>\n",
       "  </thead>\n",
       "  <tbody>\n",
       "    <tr>\n",
       "      <th>0</th>\n",
       "      <td>Attack on Titan</td>\n",
       "      <td>Hero</td>\n",
       "      <td>9.9</td>\n",
       "      <td>2019</td>\n",
       "      <td>83546</td>\n",
       "      <td>As Erwin's heroic charge buys Levi time to con...</td>\n",
       "      <td>Animation, Action, Adventure</td>\n",
       "      <td>tt2560140</td>\n",
       "      <td>Animation</td>\n",
       "      <td>Action</td>\n",
       "      <td>Adventure</td>\n",
       "    </tr>\n",
       "    <tr>\n",
       "      <th>1</th>\n",
       "      <td>Attack on Titan</td>\n",
       "      <td>Perfect Game</td>\n",
       "      <td>9.9</td>\n",
       "      <td>2019</td>\n",
       "      <td>44994</td>\n",
       "      <td>While one front is rained on by flames, the ot...</td>\n",
       "      <td>Animation, Action, Adventure</td>\n",
       "      <td>tt2560140</td>\n",
       "      <td>Animation</td>\n",
       "      <td>Action</td>\n",
       "      <td>Adventure</td>\n",
       "    </tr>\n",
       "    <tr>\n",
       "      <th>2</th>\n",
       "      <td>Mr. Robot</td>\n",
       "      <td>407 Proxy Authentication Required</td>\n",
       "      <td>9.9</td>\n",
       "      <td>2019</td>\n",
       "      <td>26074</td>\n",
       "      <td>Vera holds Krista hostage as he tries to force...</td>\n",
       "      <td>Crime, Drama, Thriller</td>\n",
       "      <td>tt4158110</td>\n",
       "      <td>Crime</td>\n",
       "      <td>Drama</td>\n",
       "      <td>Thriller</td>\n",
       "    </tr>\n",
       "    <tr>\n",
       "      <th>3</th>\n",
       "      <td>Attack on Titan</td>\n",
       "      <td>Senshi</td>\n",
       "      <td>9.9</td>\n",
       "      <td>2017</td>\n",
       "      <td>27872</td>\n",
       "      <td>Following the battle, the Scouts regroup atop ...</td>\n",
       "      <td>Animation, Action, Adventure</td>\n",
       "      <td>tt2560140</td>\n",
       "      <td>Animation</td>\n",
       "      <td>Action</td>\n",
       "      <td>Adventure</td>\n",
       "    </tr>\n",
       "    <tr>\n",
       "      <th>4</th>\n",
       "      <td>Game of Thrones</td>\n",
       "      <td>The Winds of Winter</td>\n",
       "      <td>9.9</td>\n",
       "      <td>2016</td>\n",
       "      <td>142118</td>\n",
       "      <td>Cersei and Loras Tyrell stand trial by the god...</td>\n",
       "      <td>Action, Adventure, Drama</td>\n",
       "      <td>tt0944947</td>\n",
       "      <td>Action</td>\n",
       "      <td>Adventure</td>\n",
       "      <td>Drama</td>\n",
       "    </tr>\n",
       "  </tbody>\n",
       "</table>\n",
       "</div>"
      ],
      "text/plain": [
       "           tv_show                            episode  rating  year  \\\n",
       "0  Attack on Titan                               Hero     9.9  2019   \n",
       "1  Attack on Titan                       Perfect Game     9.9  2019   \n",
       "2        Mr. Robot  407 Proxy Authentication Required     9.9  2019   \n",
       "3  Attack on Titan                             Senshi     9.9  2017   \n",
       "4  Game of Thrones                The Winds of Winter     9.9  2016   \n",
       "\n",
       "   total_votes                                               desc  \\\n",
       "0        83546  As Erwin's heroic charge buys Levi time to con...   \n",
       "1        44994  While one front is rained on by flames, the ot...   \n",
       "2        26074  Vera holds Krista hostage as he tries to force...   \n",
       "3        27872  Following the battle, the Scouts regroup atop ...   \n",
       "4       142118  Cersei and Loras Tyrell stand trial by the god...   \n",
       "\n",
       "                          genre encoded_title     genre1     genre2     genre3  \n",
       "0  Animation, Action, Adventure     tt2560140  Animation     Action  Adventure  \n",
       "1  Animation, Action, Adventure     tt2560140  Animation     Action  Adventure  \n",
       "2        Crime, Drama, Thriller     tt4158110      Crime      Drama   Thriller  \n",
       "3  Animation, Action, Adventure     tt2560140  Animation     Action  Adventure  \n",
       "4      Action, Adventure, Drama     tt0944947     Action  Adventure      Drama  "
      ]
     },
     "execution_count": 8,
     "metadata": {},
     "output_type": "execute_result"
    }
   ],
   "source": [
    "top_episodes.head()"
   ]
  },
  {
   "cell_type": "code",
   "execution_count": 9,
   "metadata": {},
   "outputs": [
    {
     "data": {
      "text/html": [
       "<div>\n",
       "<style scoped>\n",
       "    .dataframe tbody tr th:only-of-type {\n",
       "        vertical-align: middle;\n",
       "    }\n",
       "\n",
       "    .dataframe tbody tr th {\n",
       "        vertical-align: top;\n",
       "    }\n",
       "\n",
       "    .dataframe thead th {\n",
       "        text-align: right;\n",
       "    }\n",
       "</style>\n",
       "<table border=\"1\" class=\"dataframe\">\n",
       "  <thead>\n",
       "    <tr style=\"text-align: right;\">\n",
       "      <th></th>\n",
       "      <th>title</th>\n",
       "      <th>rating</th>\n",
       "      <th>total_votes</th>\n",
       "      <th>description</th>\n",
       "      <th>year</th>\n",
       "      <th>link</th>\n",
       "      <th>encoded_title</th>\n",
       "    </tr>\n",
       "  </thead>\n",
       "  <tbody>\n",
       "    <tr>\n",
       "      <th>0</th>\n",
       "      <td>Planet Earth II</td>\n",
       "      <td>9.5</td>\n",
       "      <td>110000</td>\n",
       "      <td>David Attenborough returns with a new wildlife...</td>\n",
       "      <td>2016</td>\n",
       "      <td>https://www.imdb.com/title/tt5491994</td>\n",
       "      <td>tt5491994</td>\n",
       "    </tr>\n",
       "    <tr>\n",
       "      <th>1</th>\n",
       "      <td>Planet Earth</td>\n",
       "      <td>9.4</td>\n",
       "      <td>178000</td>\n",
       "      <td>Emmy Award-winning, 11 episodes, five years in...</td>\n",
       "      <td>2006</td>\n",
       "      <td>https://www.imdb.com/title/tt0795176</td>\n",
       "      <td>tt0795176</td>\n",
       "    </tr>\n",
       "    <tr>\n",
       "      <th>2</th>\n",
       "      <td>Breaking Bad</td>\n",
       "      <td>9.4</td>\n",
       "      <td>1700000</td>\n",
       "      <td>A high school chemistry teacher diagnosed with...</td>\n",
       "      <td>2008</td>\n",
       "      <td>https://www.imdb.com/title/tt0903747</td>\n",
       "      <td>tt0903747</td>\n",
       "    </tr>\n",
       "    <tr>\n",
       "      <th>3</th>\n",
       "      <td>Band of Brothers</td>\n",
       "      <td>9.4</td>\n",
       "      <td>414000</td>\n",
       "      <td>The story of Easy Company of the U.S. Army 101...</td>\n",
       "      <td>2001</td>\n",
       "      <td>https://www.imdb.com/title/tt0185906</td>\n",
       "      <td>tt0185906</td>\n",
       "    </tr>\n",
       "    <tr>\n",
       "      <th>4</th>\n",
       "      <td>Chernobyl</td>\n",
       "      <td>9.3</td>\n",
       "      <td>650000</td>\n",
       "      <td>In April 1986, an explosion at the Chernobyl n...</td>\n",
       "      <td>2019</td>\n",
       "      <td>https://www.imdb.com/title/tt7366338</td>\n",
       "      <td>tt7366338</td>\n",
       "    </tr>\n",
       "  </tbody>\n",
       "</table>\n",
       "</div>"
      ],
      "text/plain": [
       "              title  rating  total_votes  \\\n",
       "0   Planet Earth II     9.5       110000   \n",
       "1      Planet Earth     9.4       178000   \n",
       "2      Breaking Bad     9.4      1700000   \n",
       "3  Band of Brothers     9.4       414000   \n",
       "4         Chernobyl     9.3       650000   \n",
       "\n",
       "                                         description  year  \\\n",
       "0  David Attenborough returns with a new wildlife...  2016   \n",
       "1  Emmy Award-winning, 11 episodes, five years in...  2006   \n",
       "2  A high school chemistry teacher diagnosed with...  2008   \n",
       "3  The story of Easy Company of the U.S. Army 101...  2001   \n",
       "4  In April 1986, an explosion at the Chernobyl n...  2019   \n",
       "\n",
       "                                   link encoded_title  \n",
       "0  https://www.imdb.com/title/tt5491994     tt5491994  \n",
       "1  https://www.imdb.com/title/tt0795176     tt0795176  \n",
       "2  https://www.imdb.com/title/tt0903747     tt0903747  \n",
       "3  https://www.imdb.com/title/tt0185906     tt0185906  \n",
       "4  https://www.imdb.com/title/tt7366338     tt7366338  "
      ]
     },
     "execution_count": 9,
     "metadata": {},
     "output_type": "execute_result"
    }
   ],
   "source": [
    "top_250.head()"
   ]
  },
  {
   "cell_type": "markdown",
   "metadata": {},
   "source": [
    "### Top 10 shows by ratings and votes"
   ]
  },
  {
   "cell_type": "code",
   "execution_count": 10,
   "metadata": {},
   "outputs": [],
   "source": [
    "top_10_ratings = top_250.loc[:9, [\"title\", \"rating\"]]"
   ]
  },
  {
   "cell_type": "code",
   "execution_count": 11,
   "metadata": {},
   "outputs": [
    {
     "data": {
      "image/png": "[encoded data removed]",
      "text/plain": [
       "<Figure size 1440x864 with 1 Axes>"
      ]
     },
     "metadata": {
      "needs_background": "light"
     },
     "output_type": "display_data"
    }
   ],
   "source": [
    "plt.figure(figsize = (20,12))\n",
    "sns.barplot(y = \"title\", x = \"rating\", data = top_10_ratings, color = \"blue\")\n",
    "plt.title(\"Top 10 rated TV shows on IMDb\", fontsize = 18)\n",
    "plt.ylabel(\"\", fontsize = 14)\n",
    "plt.xlabel(\"Rating\", fontsize = 14)\n",
    "plt.xlim(8.8,9.6)\n",
    "plt.show();"
   ]
  },
  {
   "cell_type": "code",
   "execution_count": 12,
   "metadata": {},
   "outputs": [],
   "source": [
    "top_votes = top_250.sort_values(\"total_votes\", ascending = False).reset_index(drop=True)\n",
    "top_10_votes = top_votes.loc[:9, [\"title\", \"total_votes\"]]"
   ]
  },
  {
   "cell_type": "code",
   "execution_count": 13,
   "metadata": {},
   "outputs": [
    {
     "data": {
      "image/png": "[encoded data removed]",
      "text/plain": [
       "<Figure size 1440x864 with 1 Axes>"
      ]
     },
     "metadata": {
      "needs_background": "light"
     },
     "output_type": "display_data"
    }
   ],
   "source": [
    "plt.figure(figsize = (20,12))\n",
    "sns.barplot(y = \"title\", x = \"total_votes\", data = top_10_votes, color = \"blue\")\n",
    "plt.title(\"Top 10 TV shows with the most votes on IMDb\", fontsize = 18)\n",
    "plt.ylabel(\"\", fontsize = 14)\n",
    "plt.xlabel(\"Total Votes\", fontsize = 14)\n",
    "#plt.xticks(rotation = 60)\n",
    "#plt.ylim(8.8,9.6)\n",
    "plt.show();"
   ]
  },
  {
   "cell_type": "markdown",
   "metadata": {},
   "source": [
    "### Top 10 shows by ratings and votes - Aggregation by episode"
   ]
  },
  {
   "cell_type": "code",
   "execution_count": 14,
   "metadata": {},
   "outputs": [],
   "source": [
    "mean_ratings = imdb_data.groupby([\"tv\", \"encoded_title\"], as_index = False)[\"rating\"].mean()"
   ]
  },
  {
   "cell_type": "code",
   "execution_count": 15,
   "metadata": {},
   "outputs": [],
   "source": [
    "mean_ratings_sorted = mean_ratings.sort_values(\"rating\", ascending = False).reset_index(drop =True)"
   ]
  },
  {
   "cell_type": "code",
   "execution_count": 16,
   "metadata": {},
   "outputs": [],
   "source": [
    "top10_mean_ratings = mean_ratings_sorted.loc[:9, [\"tv\", \"rating\"]]"
   ]
  },
  {
   "cell_type": "code",
   "execution_count": 17,
   "metadata": {},
   "outputs": [
    {
     "data": {
      "image/png": "[encoded data removed]",
      "text/plain": [
       "<Figure size 1440x864 with 1 Axes>"
      ]
     },
     "metadata": {
      "needs_background": "light"
     },
     "output_type": "display_data"
    }
   ],
   "source": [
    "plt.figure(figsize = (20,12))\n",
    "sns.barplot(y = \"tv\", x = \"rating\", data = top10_mean_ratings, color = \"red\")\n",
    "plt.title(\"Top 10 rated TV shows on IMDb (average episode ratings)\", fontsize = 18)\n",
    "plt.ylabel(\"\", fontsize = 14)\n",
    "plt.xlabel(\"Average Rating Per Episode\", fontsize = 14)\n",
    "#plt.xticks(rotation = 60)\n",
    "plt.xlim(8,10)\n",
    "plt.show();"
   ]
  },
  {
   "cell_type": "code",
   "execution_count": 18,
   "metadata": {},
   "outputs": [],
   "source": [
    "mean_votes = imdb_data.groupby([\"tv\", \"encoded_title\"], as_index = False)[\"total_votes\"].mean()\n",
    "mean_votes_sorted = mean_votes.sort_values(\"total_votes\", ascending = False).reset_index(drop = True)\n",
    "top10_total_votes = mean_votes_sorted.loc[:9, [\"tv\", \"total_votes\"]]"
   ]
  },
  {
   "cell_type": "code",
   "execution_count": 19,
   "metadata": {},
   "outputs": [
    {
     "data": {
      "image/png": "[encoded data removed]",
      "text/plain": [
       "<Figure size 1440x864 with 1 Axes>"
      ]
     },
     "metadata": {
      "needs_background": "light"
     },
     "output_type": "display_data"
    }
   ],
   "source": [
    "plt.figure(figsize = (20,12))\n",
    "sns.barplot(y = \"tv\", x = \"total_votes\", data = top10_total_votes, color = \"red\")\n",
    "plt.title(\"Top 10 TV shows with the most votes on IMDb per episode\", fontsize = 18)\n",
    "plt.ylabel(\"\", fontsize = 14)\n",
    "plt.xlabel(\"Average Votes Per Episode\", fontsize = 14)\n",
    "#plt.xticks(rotation = 60)\n",
    "#plt.ylim(8.8,9.6)\n",
    "plt.show();"
   ]
  },
  {
   "cell_type": "markdown",
   "metadata": {},
   "source": [
    "### Top 10 seasons by ratings and votes"
   ]
  },
  {
   "cell_type": "code",
   "execution_count": 20,
   "metadata": {},
   "outputs": [],
   "source": [
    "season_ratings = imdb_data.groupby([\"tv\", \"encoded_title\", \"season\"], as_index = False)[\"rating\"].mean()"
   ]
  },
  {
   "cell_type": "code",
   "execution_count": 21,
   "metadata": {},
   "outputs": [],
   "source": [
    "season_ratings[\"season\"] = season_ratings[\"season\"].astype(str)"
   ]
  },
  {
   "cell_type": "code",
   "execution_count": 22,
   "metadata": {},
   "outputs": [],
   "source": [
    "season_ratings[\"tv_season\"] = season_ratings[\"tv\"] + \" \" + season_ratings[\"season\"]"
   ]
  },
  {
   "cell_type": "code",
   "execution_count": 23,
   "metadata": {},
   "outputs": [],
   "source": [
    "season_ratings = season_ratings.sort_values(\"rating\", ascending = False).reset_index()\n",
    "season_ratings_top10 = season_ratings.loc[:9, [\"tv_season\", \"rating\"]]"
   ]
  },
  {
   "cell_type": "code",
   "execution_count": 24,
   "metadata": {},
   "outputs": [],
   "source": [
    "season_ratings_top10.to_csv(\"data-for-charts/season_ratings_top10.csv\", index = False)"
   ]
  },
  {
   "cell_type": "code",
   "execution_count": 25,
   "metadata": {},
   "outputs": [
    {
     "data": {
      "image/png": "[encoded data removed]",
      "text/plain": [
       "<Figure size 1440x864 with 1 Axes>"
      ]
     },
     "metadata": {
      "needs_background": "light"
     },
     "output_type": "display_data"
    }
   ],
   "source": [
    "plt.figure(figsize = (20,12))\n",
    "sns.barplot(y = \"tv_season\", x = \"rating\", data = season_ratings_top10, color = \"blue\")\n",
    "plt.title(\"Top 10 rated TV seasons on IMDb\", fontsize = 18)\n",
    "plt.ylabel(\"\", fontsize = 14)\n",
    "plt.xlabel(\"Average Rating Per Episode\", fontsize = 14)\n",
    "#plt.xticks(rotation = 60)\n",
    "plt.xlim(9,10)\n",
    "plt.show();"
   ]
  },
  {
   "cell_type": "code",
   "execution_count": 26,
   "metadata": {},
   "outputs": [],
   "source": [
    "season_votes = imdb_data.groupby([\"tv\", \"encoded_title\", \"season\"], as_index = False)[\"total_votes\"].mean()"
   ]
  },
  {
   "cell_type": "code",
   "execution_count": 27,
   "metadata": {},
   "outputs": [],
   "source": [
    "season_votes[\"season\"] = season_votes[\"season\"].astype(str)"
   ]
  },
  {
   "cell_type": "code",
   "execution_count": 28,
   "metadata": {},
   "outputs": [],
   "source": [
    "season_votes[\"tv_season\"] = season_votes[\"tv\"] + \",\" + season_votes[\"season\"]"
   ]
  },
  {
   "cell_type": "code",
   "execution_count": 29,
   "metadata": {},
   "outputs": [],
   "source": [
    "season_votes = season_votes.sort_values(\"total_votes\", ascending = False).reset_index()\n",
    "season_votes_top10 = season_votes.loc[:9, [\"tv_season\", \"total_votes\"]]"
   ]
  },
  {
   "cell_type": "code",
   "execution_count": 30,
   "metadata": {},
   "outputs": [
    {
     "data": {
      "image/png": "[encoded data removed]",
      "text/plain": [
       "<Figure size 1440x864 with 1 Axes>"
      ]
     },
     "metadata": {
      "needs_background": "light"
     },
     "output_type": "display_data"
    }
   ],
   "source": [
    "plt.figure(figsize = (20,12))\n",
    "sns.barplot(y = \"tv_season\", x = \"total_votes\", data = season_votes_top10, color = \"red\")\n",
    "plt.title(\"Top 10 TV seasons with the most votes on IMDb\", fontsize = 18)\n",
    "plt.xlabel(\"TV show\", fontsize = 14)\n",
    "plt.ylabel(\"Average Votes Per Episode\", fontsize = 14)\n",
    "#plt.xticks(rotation = 60)\n",
    "#plt.ylim(8.8,9.6)\n",
    "plt.show();"
   ]
  },
  {
   "cell_type": "markdown",
   "metadata": {},
   "source": [
    "### Comparison between IMDb ratings and IMDb ratings by episode"
   ]
  },
  {
   "cell_type": "code",
   "execution_count": 31,
   "metadata": {},
   "outputs": [],
   "source": [
    "top_250_new = top_250.merge(mean_ratings, on = \"encoded_title\")"
   ]
  },
  {
   "cell_type": "code",
   "execution_count": 32,
   "metadata": {},
   "outputs": [],
   "source": [
    "top_250_new = top_250_new.drop('tv', axis = 1)"
   ]
  },
  {
   "cell_type": "code",
   "execution_count": 33,
   "metadata": {},
   "outputs": [],
   "source": [
    "top_250_new = top_250_new[[\"title\", \"rating_x\", \"rating_y\", \"total_votes\", \"encoded_title\"]]"
   ]
  },
  {
   "cell_type": "code",
   "execution_count": 34,
   "metadata": {},
   "outputs": [
    {
     "data": {
      "image/png": "[encoded data removed]",
      "text/plain": [
       "<Figure size 1440x864 with 1 Axes>"
      ]
     },
     "metadata": {
      "needs_background": "light"
     },
     "output_type": "display_data"
    }
   ],
   "source": [
    "plt.figure(figsize = (20,12))\n",
    "sns.scatterplot(x = \"rating_x\", y = \"rating_y\", data = top_250_new, color = \"blue\")\n",
    "plt.title(\"Average Ratings by Episodes vs IMDb Ratings\", fontsize = 22)\n",
    "plt.xlabel(\"IMDb Ratings\", fontsize = 16)\n",
    "plt.ylabel(\"Average Ratings by Episodes\", fontsize =16)\n",
    "plt.show();"
   ]
  },
  {
   "cell_type": "markdown",
   "metadata": {},
   "source": [
    "### Which TV show produces the best episodes?"
   ]
  },
  {
   "cell_type": "code",
   "execution_count": 35,
   "metadata": {},
   "outputs": [],
   "source": [
    "best_episodes = top_episodes.groupby([\"tv_show\", \"encoded_title\"], as_index = False)[\"rating\"].count()"
   ]
  },
  {
   "cell_type": "code",
   "execution_count": 36,
   "metadata": {},
   "outputs": [],
   "source": [
    "best_episodes = best_episodes.rename(columns={\"rating\":\"rating_count\"})"
   ]
  },
  {
   "cell_type": "code",
   "execution_count": 37,
   "metadata": {},
   "outputs": [],
   "source": [
    "best_episodes = best_episodes.sort_values(\"rating_count\", ascending = False).reset_index(drop = True)\n",
    "best_episodes_top10 = best_episodes.loc[:9,:]"
   ]
  },
  {
   "cell_type": "code",
   "execution_count": 38,
   "metadata": {},
   "outputs": [],
   "source": [
    "best_episodes_top10.to_csv(\"data-for-charts/best_episodes_top10.csv\", index = False)"
   ]
  },
  {
   "cell_type": "code",
   "execution_count": 39,
   "metadata": {},
   "outputs": [
    {
     "data": {
      "image/png": "[encoded data removed]",
      "text/plain": [
       "<Figure size 1440x864 with 1 Axes>"
      ]
     },
     "metadata": {
      "needs_background": "light"
     },
     "output_type": "display_data"
    }
   ],
   "source": [
    "plt.figure(figsize = (20,12))\n",
    "sns.barplot(y = \"tv_show\", x = \"rating_count\", data = best_episodes_top10, color = \"blue\")\n",
    "plt.title(\"Top 10 shows with the most episodes among the best episodes\", fontsize = 18)\n",
    "plt.ylabel(\"\", fontsize = 14)\n",
    "plt.xlabel(\"Frequency\", fontsize = 14)\n",
    "plt.show();"
   ]
  },
  {
   "cell_type": "code",
   "execution_count": 40,
   "metadata": {},
   "outputs": [],
   "source": [
    "imdb_episodes_count = imdb_data.groupby([\"tv\", \"encoded_title\"], as_index = False)[\"rating\"].count()"
   ]
  },
  {
   "cell_type": "code",
   "execution_count": 41,
   "metadata": {},
   "outputs": [],
   "source": [
    "imdb_episodes_count = imdb_episodes_count.rename(columns={\"rating\":\"episode_count\"})"
   ]
  },
  {
   "cell_type": "code",
   "execution_count": 42,
   "metadata": {},
   "outputs": [],
   "source": [
    "best_episodes_prop = imdb_episodes_count.merge(best_episodes, on = \"encoded_title\")"
   ]
  },
  {
   "cell_type": "code",
   "execution_count": 43,
   "metadata": {},
   "outputs": [
    {
     "data": {
      "text/html": [
       "<div>\n",
       "<style scoped>\n",
       "    .dataframe tbody tr th:only-of-type {\n",
       "        vertical-align: middle;\n",
       "    }\n",
       "\n",
       "    .dataframe tbody tr th {\n",
       "        vertical-align: top;\n",
       "    }\n",
       "\n",
       "    .dataframe thead th {\n",
       "        text-align: right;\n",
       "    }\n",
       "</style>\n",
       "<table border=\"1\" class=\"dataframe\">\n",
       "  <thead>\n",
       "    <tr style=\"text-align: right;\">\n",
       "      <th></th>\n",
       "      <th>tv</th>\n",
       "      <th>encoded_title</th>\n",
       "      <th>episode_count</th>\n",
       "      <th>tv_show</th>\n",
       "      <th>rating_count</th>\n",
       "    </tr>\n",
       "  </thead>\n",
       "  <tbody>\n",
       "    <tr>\n",
       "      <th>0</th>\n",
       "      <td>1883</td>\n",
       "      <td>tt13991232</td>\n",
       "      <td>6</td>\n",
       "      <td>1883</td>\n",
       "      <td>1</td>\n",
       "    </tr>\n",
       "    <tr>\n",
       "      <th>1</th>\n",
       "      <td>Adventure Time</td>\n",
       "      <td>tt1305826</td>\n",
       "      <td>289</td>\n",
       "      <td>Adventure Time</td>\n",
       "      <td>9</td>\n",
       "    </tr>\n",
       "    <tr>\n",
       "      <th>2</th>\n",
       "      <td>After Life</td>\n",
       "      <td>tt8398600</td>\n",
       "      <td>18</td>\n",
       "      <td>After Life</td>\n",
       "      <td>1</td>\n",
       "    </tr>\n",
       "    <tr>\n",
       "      <th>3</th>\n",
       "      <td>Anne with an E</td>\n",
       "      <td>tt5421602</td>\n",
       "      <td>27</td>\n",
       "      <td>Anne with an E</td>\n",
       "      <td>2</td>\n",
       "    </tr>\n",
       "    <tr>\n",
       "      <th>4</th>\n",
       "      <td>Arcane</td>\n",
       "      <td>tt11126994</td>\n",
       "      <td>9</td>\n",
       "      <td>Arcane</td>\n",
       "      <td>5</td>\n",
       "    </tr>\n",
       "    <tr>\n",
       "      <th>...</th>\n",
       "      <td>...</td>\n",
       "      <td>...</td>\n",
       "      <td>...</td>\n",
       "      <td>...</td>\n",
       "      <td>...</td>\n",
       "    </tr>\n",
       "    <tr>\n",
       "      <th>111</th>\n",
       "      <td>What We Do in the Shadows</td>\n",
       "      <td>tt7908628</td>\n",
       "      <td>30</td>\n",
       "      <td>What We Do in the Shadows</td>\n",
       "      <td>1</td>\n",
       "    </tr>\n",
       "    <tr>\n",
       "      <th>112</th>\n",
       "      <td>When They See Us</td>\n",
       "      <td>tt7137906</td>\n",
       "      <td>4</td>\n",
       "      <td>When They See Us</td>\n",
       "      <td>1</td>\n",
       "    </tr>\n",
       "    <tr>\n",
       "      <th>113</th>\n",
       "      <td>Yellowstone</td>\n",
       "      <td>tt4236770</td>\n",
       "      <td>39</td>\n",
       "      <td>Yellowstone</td>\n",
       "      <td>2</td>\n",
       "    </tr>\n",
       "    <tr>\n",
       "      <th>114</th>\n",
       "      <td>Young Justice</td>\n",
       "      <td>tt1641384</td>\n",
       "      <td>85</td>\n",
       "      <td>Young Justice</td>\n",
       "      <td>24</td>\n",
       "    </tr>\n",
       "    <tr>\n",
       "      <th>115</th>\n",
       "      <td>Your Lie in April</td>\n",
       "      <td>tt3895150</td>\n",
       "      <td>23</td>\n",
       "      <td>Your Lie in April</td>\n",
       "      <td>1</td>\n",
       "    </tr>\n",
       "  </tbody>\n",
       "</table>\n",
       "<p>116 rows × 5 columns</p>\n",
       "</div>"
      ],
      "text/plain": [
       "                            tv encoded_title  episode_count  \\\n",
       "0                         1883    tt13991232              6   \n",
       "1               Adventure Time     tt1305826            289   \n",
       "2                   After Life     tt8398600             18   \n",
       "3               Anne with an E     tt5421602             27   \n",
       "4                       Arcane    tt11126994              9   \n",
       "..                         ...           ...            ...   \n",
       "111  What We Do in the Shadows     tt7908628             30   \n",
       "112           When They See Us     tt7137906              4   \n",
       "113                Yellowstone     tt4236770             39   \n",
       "114              Young Justice     tt1641384             85   \n",
       "115          Your Lie in April     tt3895150             23   \n",
       "\n",
       "                       tv_show  rating_count  \n",
       "0                         1883             1  \n",
       "1               Adventure Time             9  \n",
       "2                   After Life             1  \n",
       "3               Anne with an E             2  \n",
       "4                       Arcane             5  \n",
       "..                         ...           ...  \n",
       "111  What We Do in the Shadows             1  \n",
       "112           When They See Us             1  \n",
       "113                Yellowstone             2  \n",
       "114              Young Justice            24  \n",
       "115          Your Lie in April             1  \n",
       "\n",
       "[116 rows x 5 columns]"
      ]
     },
     "execution_count": 43,
     "metadata": {},
     "output_type": "execute_result"
    }
   ],
   "source": [
    "best_episodes_prop"
   ]
  },
  {
   "cell_type": "code",
   "execution_count": 60,
   "metadata": {},
   "outputs": [],
   "source": [
    "best_episodes_prop[\"rating_prop\"] = best_episodes_prop[\"rating_count\"]/best_episodes_prop[\"episode_count\"]\n",
    "best_episodes_prop = best_episodes_prop.sort_values(\"rating_prop\", ascending = False).reset_index(drop = True)\n",
    "best_episodes_prop = best_episodes_prop[best_episodes_prop[\"episode_count\"] >= 30].reset_index(drop = True)\n",
    "best_episodes_prop_top10 = best_episodes_prop.loc[:9,:]"
   ]
  },
  {
   "cell_type": "code",
   "execution_count": 61,
   "metadata": {},
   "outputs": [
    {
     "data": {
      "text/html": [
       "<div>\n",
       "<style scoped>\n",
       "    .dataframe tbody tr th:only-of-type {\n",
       "        vertical-align: middle;\n",
       "    }\n",
       "\n",
       "    .dataframe tbody tr th {\n",
       "        vertical-align: top;\n",
       "    }\n",
       "\n",
       "    .dataframe thead th {\n",
       "        text-align: right;\n",
       "    }\n",
       "</style>\n",
       "<table border=\"1\" class=\"dataframe\">\n",
       "  <thead>\n",
       "    <tr style=\"text-align: right;\">\n",
       "      <th></th>\n",
       "      <th>tv</th>\n",
       "      <th>encoded_title</th>\n",
       "      <th>episode_count</th>\n",
       "      <th>tv_show</th>\n",
       "      <th>rating_count</th>\n",
       "      <th>rating_prop</th>\n",
       "    </tr>\n",
       "  </thead>\n",
       "  <tbody>\n",
       "    <tr>\n",
       "      <th>0</th>\n",
       "      <td>Attack on Titan</td>\n",
       "      <td>tt2560140</td>\n",
       "      <td>79</td>\n",
       "      <td>Attack on Titan</td>\n",
       "      <td>42</td>\n",
       "      <td>0.531646</td>\n",
       "    </tr>\n",
       "    <tr>\n",
       "      <th>1</th>\n",
       "      <td>Young Justice</td>\n",
       "      <td>tt1641384</td>\n",
       "      <td>85</td>\n",
       "      <td>Young Justice</td>\n",
       "      <td>24</td>\n",
       "      <td>0.282353</td>\n",
       "    </tr>\n",
       "    <tr>\n",
       "      <th>2</th>\n",
       "      <td>Mr. Robot</td>\n",
       "      <td>tt4158110</td>\n",
       "      <td>45</td>\n",
       "      <td>Mr. Robot</td>\n",
       "      <td>12</td>\n",
       "      <td>0.266667</td>\n",
       "    </tr>\n",
       "    <tr>\n",
       "      <th>3</th>\n",
       "      <td>Game of Thrones</td>\n",
       "      <td>tt0944947</td>\n",
       "      <td>73</td>\n",
       "      <td>Game of Thrones</td>\n",
       "      <td>19</td>\n",
       "      <td>0.260274</td>\n",
       "    </tr>\n",
       "    <tr>\n",
       "      <th>4</th>\n",
       "      <td>Breaking Bad</td>\n",
       "      <td>tt0903747</td>\n",
       "      <td>62</td>\n",
       "      <td>Breaking Bad</td>\n",
       "      <td>16</td>\n",
       "      <td>0.258065</td>\n",
       "    </tr>\n",
       "    <tr>\n",
       "      <th>5</th>\n",
       "      <td>Daredevil</td>\n",
       "      <td>tt3322312</td>\n",
       "      <td>39</td>\n",
       "      <td>Daredevil</td>\n",
       "      <td>8</td>\n",
       "      <td>0.205128</td>\n",
       "    </tr>\n",
       "    <tr>\n",
       "      <th>6</th>\n",
       "      <td>Better Call Saul</td>\n",
       "      <td>tt3032476</td>\n",
       "      <td>50</td>\n",
       "      <td>Better Call Saul</td>\n",
       "      <td>9</td>\n",
       "      <td>0.180000</td>\n",
       "    </tr>\n",
       "    <tr>\n",
       "      <th>7</th>\n",
       "      <td>Avatar: The Last Airbender</td>\n",
       "      <td>tt0417299</td>\n",
       "      <td>62</td>\n",
       "      <td>Avatar: The Last Airbender</td>\n",
       "      <td>9</td>\n",
       "      <td>0.145161</td>\n",
       "    </tr>\n",
       "    <tr>\n",
       "      <th>8</th>\n",
       "      <td>Demon Slayer: Kimetsu no Yaiba</td>\n",
       "      <td>tt9335498</td>\n",
       "      <td>42</td>\n",
       "      <td>Demon Slayer: Kimetsu no Yaiba</td>\n",
       "      <td>6</td>\n",
       "      <td>0.142857</td>\n",
       "    </tr>\n",
       "    <tr>\n",
       "      <th>9</th>\n",
       "      <td>Rick and Morty</td>\n",
       "      <td>tt2861424</td>\n",
       "      <td>51</td>\n",
       "      <td>Rick and Morty</td>\n",
       "      <td>7</td>\n",
       "      <td>0.137255</td>\n",
       "    </tr>\n",
       "  </tbody>\n",
       "</table>\n",
       "</div>"
      ],
      "text/plain": [
       "                               tv encoded_title  episode_count  \\\n",
       "0                 Attack on Titan     tt2560140             79   \n",
       "1                   Young Justice     tt1641384             85   \n",
       "2                       Mr. Robot     tt4158110             45   \n",
       "3                 Game of Thrones     tt0944947             73   \n",
       "4                    Breaking Bad     tt0903747             62   \n",
       "5                       Daredevil     tt3322312             39   \n",
       "6                Better Call Saul     tt3032476             50   \n",
       "7      Avatar: The Last Airbender     tt0417299             62   \n",
       "8  Demon Slayer: Kimetsu no Yaiba     tt9335498             42   \n",
       "9                  Rick and Morty     tt2861424             51   \n",
       "\n",
       "                          tv_show  rating_count  rating_prop  \n",
       "0                 Attack on Titan            42     0.531646  \n",
       "1                   Young Justice            24     0.282353  \n",
       "2                       Mr. Robot            12     0.266667  \n",
       "3                 Game of Thrones            19     0.260274  \n",
       "4                    Breaking Bad            16     0.258065  \n",
       "5                       Daredevil             8     0.205128  \n",
       "6                Better Call Saul             9     0.180000  \n",
       "7      Avatar: The Last Airbender             9     0.145161  \n",
       "8  Demon Slayer: Kimetsu no Yaiba             6     0.142857  \n",
       "9                  Rick and Morty             7     0.137255  "
      ]
     },
     "execution_count": 61,
     "metadata": {},
     "output_type": "execute_result"
    }
   ],
   "source": [
    "best_episodes_prop_top10"
   ]
  },
  {
   "cell_type": "code",
   "execution_count": 46,
   "metadata": {},
   "outputs": [],
   "source": [
    "best_episodes_prop_top10.to_csv(\"data-for-charts/best_episodes_prop_top10.csv\", index = False)"
   ]
  },
  {
   "cell_type": "code",
   "execution_count": 47,
   "metadata": {},
   "outputs": [
    {
     "data": {
      "image/png": "[encoded data removed]",
      "text/plain": [
       "<Figure size 1440x864 with 1 Axes>"
      ]
     },
     "metadata": {
      "needs_background": "light"
     },
     "output_type": "display_data"
    }
   ],
   "source": [
    "plt.figure(figsize = (20,12))\n",
    "sns.barplot(y = \"tv\", x = \"rating_prop\", data = best_episodes_prop_top10, color = \"red\")\n",
    "plt.title(\"Top 10 shows with the highest proportions of their episodes among the best episode (episodes > 20)\", fontsize = 18)\n",
    "plt.ylabel(\"\", fontsize = 14)\n",
    "plt.xlabel(\"Proportion\", fontsize = 14)\n",
    "plt.show();"
   ]
  },
  {
   "cell_type": "markdown",
   "metadata": {},
   "source": [
    "### The Big Shows"
   ]
  },
  {
   "cell_type": "code",
   "execution_count": 48,
   "metadata": {},
   "outputs": [],
   "source": [
    "imdb_data_big4 = imdb_data[imdb_data[\"tv\"].isin([\"Game of Thrones\", \"Breaking Bad\", \"The Wire\", \"The Sopranos\"])]"
   ]
  },
  {
   "cell_type": "code",
   "execution_count": 49,
   "metadata": {},
   "outputs": [
    {
     "data": {
      "text/plain": [
       "array(['Game of Thrones', 'The Sopranos', 'The Wire', 'Breaking Bad'],\n",
       "      dtype=object)"
      ]
     },
     "execution_count": 49,
     "metadata": {},
     "output_type": "execute_result"
    }
   ],
   "source": [
    "imdb_data_big4[\"tv\"].unique()"
   ]
  },
  {
   "cell_type": "code",
   "execution_count": 50,
   "metadata": {},
   "outputs": [
    {
     "data": {
      "text/html": [
       "<div>\n",
       "<style scoped>\n",
       "    .dataframe tbody tr th:only-of-type {\n",
       "        vertical-align: middle;\n",
       "    }\n",
       "\n",
       "    .dataframe tbody tr th {\n",
       "        vertical-align: top;\n",
       "    }\n",
       "\n",
       "    .dataframe thead th {\n",
       "        text-align: right;\n",
       "    }\n",
       "</style>\n",
       "<table border=\"1\" class=\"dataframe\">\n",
       "  <thead>\n",
       "    <tr style=\"text-align: right;\">\n",
       "      <th></th>\n",
       "      <th>tv</th>\n",
       "      <th>season</th>\n",
       "      <th>episode_number</th>\n",
       "      <th>title</th>\n",
       "      <th>airdate</th>\n",
       "      <th>rating</th>\n",
       "      <th>total_votes</th>\n",
       "      <th>desc</th>\n",
       "      <th>encoded_title</th>\n",
       "    </tr>\n",
       "  </thead>\n",
       "  <tbody>\n",
       "    <tr>\n",
       "      <th>15125</th>\n",
       "      <td>Game of Thrones</td>\n",
       "      <td>1</td>\n",
       "      <td>1</td>\n",
       "      <td>Winter Is Coming</td>\n",
       "      <td>Apr 17, 2011</td>\n",
       "      <td>9.1</td>\n",
       "      <td>45502</td>\n",
       "      <td>Eddard Stark is torn between his family and an...</td>\n",
       "      <td>tt0944947</td>\n",
       "    </tr>\n",
       "    <tr>\n",
       "      <th>15126</th>\n",
       "      <td>Game of Thrones</td>\n",
       "      <td>1</td>\n",
       "      <td>2</td>\n",
       "      <td>The Kingsroad</td>\n",
       "      <td>Apr 24, 2011</td>\n",
       "      <td>8.8</td>\n",
       "      <td>34563</td>\n",
       "      <td>While Bran recovers from his fall, Ned takes o...</td>\n",
       "      <td>tt0944947</td>\n",
       "    </tr>\n",
       "    <tr>\n",
       "      <th>15127</th>\n",
       "      <td>Game of Thrones</td>\n",
       "      <td>1</td>\n",
       "      <td>3</td>\n",
       "      <td>Lord Snow</td>\n",
       "      <td>May 1, 2011</td>\n",
       "      <td>8.7</td>\n",
       "      <td>32727</td>\n",
       "      <td>Jon begins his training with the Night's Watch...</td>\n",
       "      <td>tt0944947</td>\n",
       "    </tr>\n",
       "    <tr>\n",
       "      <th>15128</th>\n",
       "      <td>Game of Thrones</td>\n",
       "      <td>1</td>\n",
       "      <td>4</td>\n",
       "      <td>Cripples, Bastards, and Broken Things</td>\n",
       "      <td>May 8, 2011</td>\n",
       "      <td>8.8</td>\n",
       "      <td>31113</td>\n",
       "      <td>Eddard investigates Jon Arryn's murder. Jon be...</td>\n",
       "      <td>tt0944947</td>\n",
       "    </tr>\n",
       "    <tr>\n",
       "      <th>15129</th>\n",
       "      <td>Game of Thrones</td>\n",
       "      <td>1</td>\n",
       "      <td>5</td>\n",
       "      <td>The Wolf and the Lion</td>\n",
       "      <td>May 15, 2011</td>\n",
       "      <td>9.1</td>\n",
       "      <td>32367</td>\n",
       "      <td>Catelyn has captured Tyrion and plans to bring...</td>\n",
       "      <td>tt0944947</td>\n",
       "    </tr>\n",
       "    <tr>\n",
       "      <th>...</th>\n",
       "      <td>...</td>\n",
       "      <td>...</td>\n",
       "      <td>...</td>\n",
       "      <td>...</td>\n",
       "      <td>...</td>\n",
       "      <td>...</td>\n",
       "      <td>...</td>\n",
       "      <td>...</td>\n",
       "      <td>...</td>\n",
       "    </tr>\n",
       "    <tr>\n",
       "      <th>15519</th>\n",
       "      <td>Breaking Bad</td>\n",
       "      <td>5</td>\n",
       "      <td>12</td>\n",
       "      <td>Rabid Dog</td>\n",
       "      <td>Sep 1, 2013</td>\n",
       "      <td>9.2</td>\n",
       "      <td>24116</td>\n",
       "      <td>Walt discovers Jesse broke into his house and ...</td>\n",
       "      <td>tt0903747</td>\n",
       "    </tr>\n",
       "    <tr>\n",
       "      <th>15520</th>\n",
       "      <td>Breaking Bad</td>\n",
       "      <td>5</td>\n",
       "      <td>13</td>\n",
       "      <td>To'hajiilee</td>\n",
       "      <td>Sep 8, 2013</td>\n",
       "      <td>9.8</td>\n",
       "      <td>40556</td>\n",
       "      <td>Jesse and Hank come up with an idea to take Wa...</td>\n",
       "      <td>tt0903747</td>\n",
       "    </tr>\n",
       "    <tr>\n",
       "      <th>15521</th>\n",
       "      <td>Breaking Bad</td>\n",
       "      <td>5</td>\n",
       "      <td>14</td>\n",
       "      <td>Ozymandias</td>\n",
       "      <td>Sep 15, 2013</td>\n",
       "      <td>9.9</td>\n",
       "      <td>159741</td>\n",
       "      <td>Walt goes on the run. Jesse is taken hostage. ...</td>\n",
       "      <td>tt0903747</td>\n",
       "    </tr>\n",
       "    <tr>\n",
       "      <th>15522</th>\n",
       "      <td>Breaking Bad</td>\n",
       "      <td>5</td>\n",
       "      <td>15</td>\n",
       "      <td>Granite State</td>\n",
       "      <td>Sep 22, 2013</td>\n",
       "      <td>9.7</td>\n",
       "      <td>40498</td>\n",
       "      <td>Walt struggles as he adapts to aspects of his ...</td>\n",
       "      <td>tt0903747</td>\n",
       "    </tr>\n",
       "    <tr>\n",
       "      <th>15523</th>\n",
       "      <td>Breaking Bad</td>\n",
       "      <td>5</td>\n",
       "      <td>16</td>\n",
       "      <td>Felina</td>\n",
       "      <td>Sep 29, 2013</td>\n",
       "      <td>9.9</td>\n",
       "      <td>106103</td>\n",
       "      <td>Walter White makes one last attempt to secure ...</td>\n",
       "      <td>tt0903747</td>\n",
       "    </tr>\n",
       "  </tbody>\n",
       "</table>\n",
       "<p>281 rows × 9 columns</p>\n",
       "</div>"
      ],
      "text/plain": [
       "                    tv  season  episode_number  \\\n",
       "15125  Game of Thrones       1               1   \n",
       "15126  Game of Thrones       1               2   \n",
       "15127  Game of Thrones       1               3   \n",
       "15128  Game of Thrones       1               4   \n",
       "15129  Game of Thrones       1               5   \n",
       "...                ...     ...             ...   \n",
       "15519     Breaking Bad       5              12   \n",
       "15520     Breaking Bad       5              13   \n",
       "15521     Breaking Bad       5              14   \n",
       "15522     Breaking Bad       5              15   \n",
       "15523     Breaking Bad       5              16   \n",
       "\n",
       "                                       title       airdate  rating  \\\n",
       "15125                       Winter Is Coming  Apr 17, 2011     9.1   \n",
       "15126                          The Kingsroad  Apr 24, 2011     8.8   \n",
       "15127                              Lord Snow   May 1, 2011     8.7   \n",
       "15128  Cripples, Bastards, and Broken Things   May 8, 2011     8.8   \n",
       "15129                  The Wolf and the Lion  May 15, 2011     9.1   \n",
       "...                                      ...           ...     ...   \n",
       "15519                              Rabid Dog   Sep 1, 2013     9.2   \n",
       "15520                            To'hajiilee   Sep 8, 2013     9.8   \n",
       "15521                             Ozymandias  Sep 15, 2013     9.9   \n",
       "15522                          Granite State  Sep 22, 2013     9.7   \n",
       "15523                                 Felina  Sep 29, 2013     9.9   \n",
       "\n",
       "       total_votes                                               desc  \\\n",
       "15125        45502  Eddard Stark is torn between his family and an...   \n",
       "15126        34563  While Bran recovers from his fall, Ned takes o...   \n",
       "15127        32727  Jon begins his training with the Night's Watch...   \n",
       "15128        31113  Eddard investigates Jon Arryn's murder. Jon be...   \n",
       "15129        32367  Catelyn has captured Tyrion and plans to bring...   \n",
       "...            ...                                                ...   \n",
       "15519        24116  Walt discovers Jesse broke into his house and ...   \n",
       "15520        40556  Jesse and Hank come up with an idea to take Wa...   \n",
       "15521       159741  Walt goes on the run. Jesse is taken hostage. ...   \n",
       "15522        40498  Walt struggles as he adapts to aspects of his ...   \n",
       "15523       106103  Walter White makes one last attempt to secure ...   \n",
       "\n",
       "      encoded_title  \n",
       "15125     tt0944947  \n",
       "15126     tt0944947  \n",
       "15127     tt0944947  \n",
       "15128     tt0944947  \n",
       "15129     tt0944947  \n",
       "...             ...  \n",
       "15519     tt0903747  \n",
       "15520     tt0903747  \n",
       "15521     tt0903747  \n",
       "15522     tt0903747  \n",
       "15523     tt0903747  \n",
       "\n",
       "[281 rows x 9 columns]"
      ]
     },
     "execution_count": 50,
     "metadata": {},
     "output_type": "execute_result"
    }
   ],
   "source": [
    "imdb_data_big4"
   ]
  },
  {
   "cell_type": "code",
   "execution_count": 51,
   "metadata": {},
   "outputs": [],
   "source": [
    "imdb_data_big4.to_csv(\"data-for-charts/imdb_data_big4.csv\", index = False)"
   ]
  },
  {
   "cell_type": "code",
   "execution_count": 52,
   "metadata": {},
   "outputs": [
    {
     "data": {
      "image/png": "[encoded data removed]",
      "text/plain": [
       "<Figure size 1296x720 with 1 Axes>"
      ]
     },
     "metadata": {
      "needs_background": "light"
     },
     "output_type": "display_data"
    }
   ],
   "source": [
    "plt.figure(figsize= (18,10))\n",
    "sns.boxplot(x = \"tv\", y = \"rating\", data = imdb_data_big4)\n",
    "plt.title(\"Distribution of ratings across the big shows\", fontsize = 18)\n",
    "#plt.xlabel(\"Ratings\", fontsize = 16)\n",
    "#plt.xlim(6,11)\n",
    "plt.xlabel(\"TV show\", fontsize = 14)\n",
    "plt.ylabel(\"Rating\", fontsize = 14)\n",
    "plt.show();"
   ]
  },
  {
   "cell_type": "markdown",
   "metadata": {},
   "source": [
    "### Genre Analysis top 1000 episodes"
   ]
  },
  {
   "cell_type": "code",
   "execution_count": 53,
   "metadata": {},
   "outputs": [],
   "source": [
    "top_episodes_collect = top_episodes[[\"episode\", \"rating\", \"genre1\", \"genre2\", \"genre3\"]]"
   ]
  },
  {
   "cell_type": "code",
   "execution_count": 54,
   "metadata": {},
   "outputs": [],
   "source": [
    "top_episodes_renew = top_episodes_collect.melt(id_vars = [\"episode\", \"rating\"], value_vars = [\"genre1\", \"genre2\", \"genre3\"], var_name = \"genres\", value_name = \"genre\")"
   ]
  },
  {
   "cell_type": "code",
   "execution_count": 55,
   "metadata": {},
   "outputs": [],
   "source": [
    "top_episodes_renew = top_episodes_renew.drop(\"genres\", axis = 1)"
   ]
  },
  {
   "cell_type": "code",
   "execution_count": 56,
   "metadata": {},
   "outputs": [],
   "source": [
    "top_episodes_renew = top_episodes_renew.dropna()"
   ]
  },
  {
   "cell_type": "code",
   "execution_count": 57,
   "metadata": {},
   "outputs": [
    {
     "name": "stdout",
     "output_type": "stream",
     "text": [
      "<class 'pandas.core.frame.DataFrame'>\n",
      "Int64Index: 2696 entries, 0 to 2999\n",
      "Data columns (total 3 columns):\n",
      " #   Column   Non-Null Count  Dtype  \n",
      "---  ------   --------------  -----  \n",
      " 0   episode  2696 non-null   object \n",
      " 1   rating   2696 non-null   float64\n",
      " 2   genre    2696 non-null   object \n",
      "dtypes: float64(1), object(2)\n",
      "memory usage: 84.2+ KB\n"
     ]
    }
   ],
   "source": [
    "top_episodes_renew.info()"
   ]
  },
  {
   "cell_type": "code",
   "execution_count": 58,
   "metadata": {},
   "outputs": [],
   "source": [
    "top_episodes_genre_count = top_episodes_renew.groupby(\"genre\", as_index = False)[\"episode\"].count()"
   ]
  },
  {
   "cell_type": "code",
   "execution_count": 59,
   "metadata": {},
   "outputs": [
    {
     "data": {
      "text/html": [
       "<div>\n",
       "<style scoped>\n",
       "    .dataframe tbody tr th:only-of-type {\n",
       "        vertical-align: middle;\n",
       "    }\n",
       "\n",
       "    .dataframe tbody tr th {\n",
       "        vertical-align: top;\n",
       "    }\n",
       "\n",
       "    .dataframe thead th {\n",
       "        text-align: right;\n",
       "    }\n",
       "</style>\n",
       "<table border=\"1\" class=\"dataframe\">\n",
       "  <thead>\n",
       "    <tr style=\"text-align: right;\">\n",
       "      <th></th>\n",
       "      <th>genre</th>\n",
       "      <th>episode</th>\n",
       "    </tr>\n",
       "  </thead>\n",
       "  <tbody>\n",
       "    <tr>\n",
       "      <th>0</th>\n",
       "      <td>Action</td>\n",
       "      <td>499</td>\n",
       "    </tr>\n",
       "    <tr>\n",
       "      <th>1</th>\n",
       "      <td>Adventure</td>\n",
       "      <td>441</td>\n",
       "    </tr>\n",
       "    <tr>\n",
       "      <th>2</th>\n",
       "      <td>Animation</td>\n",
       "      <td>417</td>\n",
       "    </tr>\n",
       "    <tr>\n",
       "      <th>3</th>\n",
       "      <td>Biography</td>\n",
       "      <td>14</td>\n",
       "    </tr>\n",
       "    <tr>\n",
       "      <th>4</th>\n",
       "      <td>Comedy</td>\n",
       "      <td>185</td>\n",
       "    </tr>\n",
       "    <tr>\n",
       "      <th>5</th>\n",
       "      <td>Crime</td>\n",
       "      <td>216</td>\n",
       "    </tr>\n",
       "    <tr>\n",
       "      <th>6</th>\n",
       "      <td>Documentary</td>\n",
       "      <td>10</td>\n",
       "    </tr>\n",
       "    <tr>\n",
       "      <th>7</th>\n",
       "      <td>Drama</td>\n",
       "      <td>509</td>\n",
       "    </tr>\n",
       "    <tr>\n",
       "      <th>8</th>\n",
       "      <td>Family</td>\n",
       "      <td>10</td>\n",
       "    </tr>\n",
       "    <tr>\n",
       "      <th>9</th>\n",
       "      <td>Fantasy</td>\n",
       "      <td>81</td>\n",
       "    </tr>\n",
       "    <tr>\n",
       "      <th>10</th>\n",
       "      <td>History</td>\n",
       "      <td>26</td>\n",
       "    </tr>\n",
       "    <tr>\n",
       "      <th>11</th>\n",
       "      <td>Horror</td>\n",
       "      <td>39</td>\n",
       "    </tr>\n",
       "    <tr>\n",
       "      <th>12</th>\n",
       "      <td>Music</td>\n",
       "      <td>8</td>\n",
       "    </tr>\n",
       "    <tr>\n",
       "      <th>13</th>\n",
       "      <td>Musical</td>\n",
       "      <td>1</td>\n",
       "    </tr>\n",
       "    <tr>\n",
       "      <th>14</th>\n",
       "      <td>Mystery</td>\n",
       "      <td>86</td>\n",
       "    </tr>\n",
       "    <tr>\n",
       "      <th>15</th>\n",
       "      <td>News</td>\n",
       "      <td>1</td>\n",
       "    </tr>\n",
       "    <tr>\n",
       "      <th>16</th>\n",
       "      <td>Romance</td>\n",
       "      <td>46</td>\n",
       "    </tr>\n",
       "    <tr>\n",
       "      <th>17</th>\n",
       "      <td>Sci-Fi</td>\n",
       "      <td>30</td>\n",
       "    </tr>\n",
       "    <tr>\n",
       "      <th>18</th>\n",
       "      <td>Short</td>\n",
       "      <td>3</td>\n",
       "    </tr>\n",
       "    <tr>\n",
       "      <th>19</th>\n",
       "      <td>Sport</td>\n",
       "      <td>3</td>\n",
       "    </tr>\n",
       "    <tr>\n",
       "      <th>20</th>\n",
       "      <td>Talk-Show</td>\n",
       "      <td>2</td>\n",
       "    </tr>\n",
       "    <tr>\n",
       "      <th>21</th>\n",
       "      <td>Thriller</td>\n",
       "      <td>63</td>\n",
       "    </tr>\n",
       "    <tr>\n",
       "      <th>22</th>\n",
       "      <td>War</td>\n",
       "      <td>3</td>\n",
       "    </tr>\n",
       "    <tr>\n",
       "      <th>23</th>\n",
       "      <td>Western</td>\n",
       "      <td>3</td>\n",
       "    </tr>\n",
       "  </tbody>\n",
       "</table>\n",
       "</div>"
      ],
      "text/plain": [
       "          genre  episode\n",
       "0        Action      499\n",
       "1     Adventure      441\n",
       "2     Animation      417\n",
       "3     Biography       14\n",
       "4        Comedy      185\n",
       "5         Crime      216\n",
       "6   Documentary       10\n",
       "7         Drama      509\n",
       "8        Family       10\n",
       "9       Fantasy       81\n",
       "10      History       26\n",
       "11       Horror       39\n",
       "12        Music        8\n",
       "13      Musical        1\n",
       "14      Mystery       86\n",
       "15         News        1\n",
       "16      Romance       46\n",
       "17       Sci-Fi       30\n",
       "18        Short        3\n",
       "19        Sport        3\n",
       "20    Talk-Show        2\n",
       "21     Thriller       63\n",
       "22          War        3\n",
       "23      Western        3"
      ]
     },
     "execution_count": 59,
     "metadata": {},
     "output_type": "execute_result"
    }
   ],
   "source": [
    "top_episodes_genre_count"
   ]
  },
  {
   "cell_type": "code",
   "execution_count": null,
   "metadata": {},
   "outputs": [],
   "source": []
  }
 ],
 "metadata": {
  "kernelspec": {
   "display_name": "Python 3",
   "language": "python",
   "name": "python3"
  },
  "language_info": {
   "codemirror_mode": {
    "name": "ipython",
    "version": 3
   },
   "file_extension": ".py",
   "mimetype": "text/x-python",
   "name": "python",
   "nbconvert_exporter": "python",
   "pygments_lexer": "ipython3",
   "version": "3.7.10"
  }
 },
 "nbformat": 4,
 "nbformat_minor": 2
}
