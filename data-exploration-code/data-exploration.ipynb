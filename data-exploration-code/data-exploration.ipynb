{
 "cells": [
  {
   "cell_type": "markdown",
   "metadata": {},
   "source": [
    "# Data Exploration"
   ]
  },
  {
   "cell_type": "code",
   "execution_count": null,
   "metadata": {},
   "outputs": [],
   "source": [
    "%cd .."
   ]
  },
  {
   "cell_type": "code",
   "execution_count": null,
   "metadata": {},
   "outputs": [],
   "source": [
    "import pandas as pd\n",
    "import numpy as np\n",
    "import seaborn as sns; sns.set_theme(style = \"dark\")\n",
    "%matplotlib inline\n",
    "import matplotlib.pyplot as plt"
   ]
  },
  {
   "cell_type": "markdown",
   "metadata": {},
   "source": [
    "### Loading data sets"
   ]
  },
  {
   "cell_type": "code",
   "execution_count": null,
   "metadata": {},
   "outputs": [],
   "source": [
    "imdb_data = pd.read_csv(\"cumulative-data/tv_dataset.csv\")\n",
    "top_episodes = pd.read_csv(\"cumulative-data/top1000_episodes_imdb.csv\")\n",
    "top_250 = pd.read_csv(\"cumulative-data/IMDb_top_250.csv\")"
   ]
  },
  {
   "cell_type": "code",
   "execution_count": null,
   "metadata": {},
   "outputs": [],
   "source": [
    "imdb_data.head()"
   ]
  },
  {
   "cell_type": "code",
   "execution_count": null,
   "metadata": {},
   "outputs": [],
   "source": [
    "top_episodes.head()"
   ]
  },
  {
   "cell_type": "code",
   "execution_count": null,
   "metadata": {},
   "outputs": [],
   "source": [
    "top_250.head()"
   ]
  },
  {
   "cell_type": "markdown",
   "metadata": {},
   "source": [
    "### Top 20 shows by ratings and votes"
   ]
  },
  {
   "cell_type": "code",
   "execution_count": null,
   "metadata": {},
   "outputs": [],
   "source": [
    "top_20_ratings = top_250.loc[:20, [\"title\", \"rating\"]]"
   ]
  },
  {
   "cell_type": "code",
   "execution_count": null,
   "metadata": {},
   "outputs": [],
   "source": [
    "plt.figure(figsize = (20,12))\n",
    "sns.barplot(y = \"title\", x = \"rating\", data = top_20_ratings, color = \"blue\")\n",
    "plt.title(\"Top 10 rated TV shows on IMDb\", fontsize = 22)\n",
    "plt.xlabel(\"TV show\", fontsize = 16)\n",
    "plt.ylabel(\"Rating\", fontsize = 16)\n",
    "#plt.xticks(rotation = 60)\n",
    "plt.xlim(8.8,9.6)\n",
    "plt.show();"
   ]
  },
  {
   "cell_type": "code",
   "execution_count": null,
   "metadata": {},
   "outputs": [],
   "source": [
    "top_votes = top_250.sort_values(\"total_votes\", ascending = False).reset_index(drop=True)\n",
    "top_20_votes = top_votes.loc[:20, [\"title\", \"total_votes\"]]"
   ]
  },
  {
   "cell_type": "code",
   "execution_count": null,
   "metadata": {},
   "outputs": [],
   "source": [
    "plt.figure(figsize = (20,12))\n",
    "sns.barplot(y = \"title\", x = \"total_votes\", data = top_20_votes, color = \"red\")\n",
    "plt.title(\"Top 20 TV shows with the most votes on IMDb\", fontsize = 22)\n",
    "plt.xlabel(\"TV show\", fontsize = 16)\n",
    "plt.ylabel(\"Total Votes\", fontsize = 16)\n",
    "#plt.xticks(rotation = 60)\n",
    "#plt.ylim(8.8,9.6)\n",
    "plt.show();"
   ]
  },
  {
   "cell_type": "markdown",
   "metadata": {},
   "source": [
    "### Top 20 shows by ratings and votes - Aggregation by episode"
   ]
  },
  {
   "cell_type": "code",
   "execution_count": null,
   "metadata": {},
   "outputs": [],
   "source": [
    "mean_ratings = imdb_data.groupby([\"tv\", \"encoded_title\"], as_index = False)[\"rating\"].mean()"
   ]
  },
  {
   "cell_type": "code",
   "execution_count": null,
   "metadata": {},
   "outputs": [],
   "source": [
    "mean_ratings_sorted = mean_ratings.sort_values(\"rating\", ascending = False).reset_index(drop =True)"
   ]
  },
  {
   "cell_type": "code",
   "execution_count": null,
   "metadata": {},
   "outputs": [],
   "source": [
    "top20_mean_ratings = mean_ratings_sorted.loc[:20, [\"tv\", \"rating\"]]"
   ]
  },
  {
   "cell_type": "code",
   "execution_count": null,
   "metadata": {},
   "outputs": [],
   "source": [
    "plt.figure(figsize = (20,12))\n",
    "sns.barplot(y = \"tv\", x = \"rating\", data = top20_mean_ratings, color = \"blue\")\n",
    "plt.title(\"Top 20 rated TV shows on IMDb (average episode ratings)\", fontsize = 22)\n",
    "plt.xlabel(\"TV show\", fontsize = 16)\n",
    "plt.ylabel(\"Average Rating Per Episode\", fontsize = 16)\n",
    "#plt.xticks(rotation = 60)\n",
    "plt.xlim(8,10)\n",
    "plt.show();"
   ]
  },
  {
   "cell_type": "code",
   "execution_count": null,
   "metadata": {},
   "outputs": [],
   "source": [
    "mean_votes = imdb_data.groupby([\"tv\", \"encoded_title\"], as_index = False)[\"total_votes\"].mean()\n",
    "mean_votes_sorted = mean_votes.sort_values(\"total_votes\", ascending = False).reset_index(drop = True)\n",
    "top20_total_votes = mean_votes_sorted.loc[:20, [\"tv\", \"total_votes\"]]"
   ]
  },
  {
   "cell_type": "code",
   "execution_count": null,
   "metadata": {},
   "outputs": [],
   "source": [
    "plt.figure(figsize = (20,12))\n",
    "sns.barplot(y = \"tv\", x = \"total_votes\", data = top20_total_votes, color = \"red\")\n",
    "plt.title(\"Top 20 TV shows with the most votes on IMDb per episode\", fontsize = 22)\n",
    "plt.xlabel(\"TV show\", fontsize = 16)\n",
    "plt.ylabel(\"Average Votes Per Episode\", fontsize = 16)\n",
    "#plt.xticks(rotation = 60)\n",
    "#plt.ylim(8.8,9.6)\n",
    "plt.show();"
   ]
  },
  {
   "cell_type": "markdown",
   "metadata": {},
   "source": [
    "### Top 20 seasons by ratings and votes"
   ]
  },
  {
   "cell_type": "code",
   "execution_count": null,
   "metadata": {},
   "outputs": [],
   "source": [
    "season_ratings = imdb_data.groupby([\"tv\", \"encoded_title\", \"season\"], as_index = False)[\"rating\"].mean()"
   ]
  },
  {
   "cell_type": "code",
   "execution_count": null,
   "metadata": {},
   "outputs": [],
   "source": [
    "season_ratings[\"season\"] = season_ratings[\"season\"].astype(str)"
   ]
  },
  {
   "cell_type": "code",
   "execution_count": null,
   "metadata": {},
   "outputs": [],
   "source": [
    "season_ratings[\"tv_season\"] = season_ratings[\"tv\"] + \",\" + season_ratings[\"season\"]"
   ]
  },
  {
   "cell_type": "code",
   "execution_count": null,
   "metadata": {},
   "outputs": [],
   "source": [
    "season_ratings = season_ratings.sort_values(\"rating\", ascending = False).reset_index()\n",
    "season_ratings_top20 = season_ratings.loc[:20, [\"tv_season\", \"rating\"]]"
   ]
  },
  {
   "cell_type": "code",
   "execution_count": null,
   "metadata": {},
   "outputs": [],
   "source": [
    "plt.figure(figsize = (20,12))\n",
    "sns.barplot(y = \"tv_season\", x = \"rating\", data = season_ratings_top20, color = \"blue\")\n",
    "plt.title(\"Top 20 rated TV seasons on IMDb\", fontsize = 22)\n",
    "plt.xlabel(\"TV show\", fontsize = 16)\n",
    "plt.ylabel(\"Average Rating Per Episode\", fontsize = 16)\n",
    "#plt.xticks(rotation = 60)\n",
    "plt.xlim(9,10)\n",
    "plt.show();"
   ]
  },
  {
   "cell_type": "code",
   "execution_count": null,
   "metadata": {},
   "outputs": [],
   "source": [
    "season_votes = imdb_data.groupby([\"tv\", \"encoded_title\", \"season\"], as_index = False)[\"total_votes\"].mean()"
   ]
  },
  {
   "cell_type": "code",
   "execution_count": null,
   "metadata": {},
   "outputs": [],
   "source": [
    "season_votes[\"season\"] = season_votes[\"season\"].astype(str)"
   ]
  },
  {
   "cell_type": "code",
   "execution_count": null,
   "metadata": {},
   "outputs": [],
   "source": [
    "season_votes[\"tv_season\"] = season_votes[\"tv\"] + \",\" + season_votes[\"season\"]"
   ]
  },
  {
   "cell_type": "code",
   "execution_count": null,
   "metadata": {},
   "outputs": [],
   "source": [
    "season_votes = season_votes.sort_values(\"total_votes\", ascending = False).reset_index()\n",
    "season_votes_top20 = season_votes.loc[:20, [\"tv_season\", \"total_votes\"]]"
   ]
  },
  {
   "cell_type": "code",
   "execution_count": null,
   "metadata": {},
   "outputs": [],
   "source": [
    "plt.figure(figsize = (20,12))\n",
    "sns.barplot(y = \"tv_season\", x = \"total_votes\", data = season_votes_top20, color = \"red\")\n",
    "plt.title(\"Top 20 TV seasons with the most votes on IMDb\", fontsize = 22)\n",
    "plt.xlabel(\"TV show\", fontsize = 16)\n",
    "plt.ylabel(\"Average Votes Per Episode\", fontsize = 16)\n",
    "#plt.xticks(rotation = 60)\n",
    "#plt.ylim(8.8,9.6)\n",
    "plt.show();"
   ]
  },
  {
   "cell_type": "markdown",
   "metadata": {},
   "source": [
    "### Comparison between IMDb ratings and IMDb ratings by episode"
   ]
  },
  {
   "cell_type": "code",
   "execution_count": null,
   "metadata": {},
   "outputs": [],
   "source": [
    "top_250_new = top_250.merge(mean_ratings, on = \"encoded_title\")"
   ]
  },
  {
   "cell_type": "code",
   "execution_count": null,
   "metadata": {},
   "outputs": [],
   "source": [
    "top_250_new = top_250_new.drop('tv', axis = 1)"
   ]
  },
  {
   "cell_type": "code",
   "execution_count": null,
   "metadata": {},
   "outputs": [],
   "source": [
    "top_250_new = top_250_new[[\"title\", \"rating_x\", \"rating_y\", \"total_votes\", \"encoded_title\"]]"
   ]
  },
  {
   "cell_type": "code",
   "execution_count": null,
   "metadata": {},
   "outputs": [],
   "source": [
    "top_250_new.to_csv(\"df.csv\")"
   ]
  },
  {
   "cell_type": "code",
   "execution_count": null,
   "metadata": {},
   "outputs": [],
   "source": [
    "plt.figure(figsize = (20,12))\n",
    "sns.scatterplot(x = \"rating_x\", y = \"rating_y\", data = top_250_new, color = \"blue\")\n",
    "plt.title(\"Average Ratings by Episodes vs IMDb Ratings\", fontsize = 22)\n",
    "plt.xlabel(\"IMDb Ratings\", fontsize = 16)\n",
    "plt.ylabel(\"Average Ratings by Episodes\", fontsize =16)\n",
    "plt.show();"
   ]
  },
  {
   "cell_type": "markdown",
   "metadata": {},
   "source": [
    "### Which TV show produces the best episodes?"
   ]
  },
  {
   "cell_type": "code",
   "execution_count": null,
   "metadata": {},
   "outputs": [],
   "source": [
    "best_episodes = top_episodes.groupby([\"tv_show\", \"encoded_title\"], as_index = False)[\"rating\"].count()"
   ]
  },
  {
   "cell_type": "code",
   "execution_count": null,
   "metadata": {},
   "outputs": [],
   "source": [
    "best_episodes = best_episodes.rename(columns={\"rating\":\"rating_count\"})"
   ]
  },
  {
   "cell_type": "code",
   "execution_count": null,
   "metadata": {},
   "outputs": [],
   "source": [
    "best_episodes = best_episodes.sort_values(\"rating_count\", ascending = False)\n",
    "best_episodes_top10 = best_episodes.loc[:10,:]"
   ]
  },
  {
   "cell_type": "code",
   "execution_count": null,
   "metadata": {},
   "outputs": [],
   "source": [
    "best_episodes_top10"
   ]
  },
  {
   "cell_type": "code",
   "execution_count": null,
   "metadata": {},
   "outputs": [],
   "source": [
    "plt.figure(figsize = (20,12))\n",
    "sns.barplot(y = \"tv_show\", x = \"rating_count\", data = best_episodes_top10, color = \"blue\")\n",
    "plt.title(\"Top 10 shows with the most episodes among the best episodes\", fontsize = 22)\n",
    "plt.xlabel(\"TV show\", fontsize = 16)\n",
    "plt.ylabel(\"Frequency\", fontsize = 16)\n",
    "plt.show();"
   ]
  },
  {
   "cell_type": "code",
   "execution_count": null,
   "metadata": {},
   "outputs": [],
   "source": [
    "imdb_episodes_count = imdb_data.groupby([\"tv\", \"encoded_title\"], as_index = False)[\"rating\"].count()"
   ]
  },
  {
   "cell_type": "code",
   "execution_count": null,
   "metadata": {},
   "outputs": [],
   "source": [
    "imdb_episodes_count = imdb_episodes_count.rename(columns={\"rating\":\"episode_count\"})"
   ]
  },
  {
   "cell_type": "code",
   "execution_count": null,
   "metadata": {},
   "outputs": [],
   "source": [
    "best_episodes_prop = imdb_episodes_count.merge(best_episodes, on = \"encoded_title\")"
   ]
  },
  {
   "cell_type": "code",
   "execution_count": null,
   "metadata": {},
   "outputs": [],
   "source": [
    "best_episodes_prop"
   ]
  },
  {
   "cell_type": "code",
   "execution_count": null,
   "metadata": {},
   "outputs": [],
   "source": [
    "best_episodes_prop[\"rating_prop\"] = best_episodes_prop[\"rating_count\"]/best_episodes_prop[\"episode_count\"]\n",
    "best_episodes_prop = best_episodes_prop.sort_values(\"rating_prop\", ascending = False).reset_index(drop = True)\n",
    "best_episodes_prop_top10 = best_episodes_prop.loc[:10,:]"
   ]
  },
  {
   "cell_type": "code",
   "execution_count": null,
   "metadata": {},
   "outputs": [],
   "source": [
    "best_episodes_prop_top10"
   ]
  },
  {
   "cell_type": "code",
   "execution_count": null,
   "metadata": {},
   "outputs": [],
   "source": [
    "plt.figure(figsize = (20,12))\n",
    "sns.barplot(y = \"tv\", x = \"rating_prop\", data = best_episodes_prop_top10, color = \"blue\")\n",
    "plt.title(\"Top 10 shows with the highest proportions of their episodes among the best episode\", fontsize = 22)\n",
    "plt.xlabel(\"TV show\", fontsize = 16)\n",
    "plt.ylabel(\"Proportion\", fontsize = 16)\n",
    "plt.show();"
   ]
  },
  {
   "cell_type": "code",
   "execution_count": null,
   "metadata": {},
   "outputs": [],
   "source": []
  }
 ],
 "metadata": {
  "kernelspec": {
   "display_name": "Python 3 (ipykernel)",
   "language": "python",
   "name": "python3"
  },
  "language_info": {
   "codemirror_mode": {
    "name": "ipython",
    "version": 3
   },
   "file_extension": ".py",
   "mimetype": "text/x-python",
   "name": "python",
   "nbconvert_exporter": "python",
   "pygments_lexer": "ipython3",
   "version": "3.9.7"
  }
 },
 "nbformat": 4,
 "nbformat_minor": 2
}
